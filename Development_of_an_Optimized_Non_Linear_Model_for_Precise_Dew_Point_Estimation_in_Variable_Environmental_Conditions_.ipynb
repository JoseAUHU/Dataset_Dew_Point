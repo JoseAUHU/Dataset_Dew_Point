{
  "nbformat": 4,
  "nbformat_minor": 0,
  "metadata": {
    "colab": {
      "provenance": []
    },
    "kernelspec": {
      "name": "python3",
      "display_name": "Python 3"
    },
    "language_info": {
      "name": "python"
    }
  },
  "cells": [
    {
      "cell_type": "markdown",
      "source": [],
      "metadata": {
        "id": "1IbdO9g1hoTl"
      }
    },
    {
      "cell_type": "markdown",
      "source": [
        "##Dataset code\n",
        "\n",
        "This code calculates and generates a dataset of dew point temperatures based on different combinations of air temperature and relative humidity. It uses a mathematical formula to estimate the dew point and stores the results in a matrix, which is then saved as a CSV file."
      ],
      "metadata": {
        "id": "xT9D9SWWhr_R"
      }
    },
    {
      "cell_type": "code",
      "source": [
        "import numpy as np\n",
        "import pandas as pd\n",
        "import matplotlib.pyplot as plt\n",
        "\n",
        "# Define the dataset equation\n",
        "def dataset_equation(temperature, relative_humidity):\n",
        "    return ((237.3 * (np.log(relative_humidity / 100) + ((17.27 * temperature) / (237.3 + temperature)))) /\n",
        "            (17.27 - (np.log(relative_humidity / 100) + ((17.27 * temperature) / (237.3 + temperature)))))\n",
        "\n",
        "# Define the range of values for X and Y\n",
        "X_values = np.linspace(5, 50, 300)\n",
        "Y_values = np.linspace(20, 100, 300)\n",
        "\n",
        "# Create a matrix to store the results of the equations and the dataset\n",
        "Z_dataset = np.zeros((len(X_values), len(Y_values)))\n",
        "\n",
        "# Calculate the values of Z for each combination of X and Y\n",
        "for i, X in enumerate(X_values):\n",
        "    for j, Y in enumerate(Y_values):\n",
        "        # Calculate the minimum relative humidity for each temperature\n",
        "        HRmin = (130.31 * np.exp(-0.061 * i))\n",
        "\n",
        "        # Calculate the dew point temperature\n",
        "        dew_point_temperature = ((237.3 * (np.log(Y / 100) + ((17.27 * X) / (237.3 + X)))) /\n",
        "                               (17.27 - (np.log(Y / 100) + ((17.27 * X) / (237.3 + X)))))\n",
        "\n",
        "        if j >= HRmin:\n",
        "            if dew_point_temperature >= 0:\n",
        "                Z_dataset[i, j] = dataset_equation(X, Y)\n",
        "            else:\n",
        "                Z_dataset[i, j] = 0\n",
        "        else:\n",
        "            Z_dataset[i, j] = 0\n",
        "\n",
        "# Create a DataFrame for the Z_dataset matrix\n",
        "df_dataset = pd.DataFrame(Z_dataset, index=np.round(X_values, 2), columns=np.round(Y_values, 2))\n",
        "\n",
        "# Save the DataFrame to a CSV file\n",
        "df_dataset.to_csv(\"dew_point_dataset_matrix.csv\")\n",
        "\n",
        "print(\"CSV file successfully created as 'dew_point_dataset_matrix.csv'\")\n"
      ],
      "metadata": {
        "colab": {
          "base_uri": "https://localhost:8080/"
        },
        "id": "FA0WiZfwkZ64",
        "outputId": "2e11159b-a792-4b1e-c0f5-ddf0aa135d47"
      },
      "execution_count": 2,
      "outputs": [
        {
          "output_type": "stream",
          "name": "stdout",
          "text": [
            "CSV file successfully created as 'dew_point_dataset_matrix.csv'\n"
          ]
        }
      ]
    }
  ]
}